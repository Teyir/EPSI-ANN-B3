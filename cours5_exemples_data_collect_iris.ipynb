{
 "cells": [
  {
   "attachments": {},
   "cell_type": "markdown",
   "metadata": {},
   "source": [
    "# FEATURES ENGINEERING - EXAMPLES"
   ]
  },
  {
   "attachments": {},
   "cell_type": "markdown",
   "metadata": {},
   "source": [
    "### Importations des librairies utiles"
   ]
  },
  {
   "cell_type": "code",
   "execution_count": null,
   "metadata": {},
   "outputs": [],
   "source": [
    "import numpy as np\n",
    "import pandas as pd\n",
    "import os\n",
    "import matplotlib.pyplot as plt\n",
    "import numpy as np\n",
    "from sklearn.linear_model import LinearRegression\n",
    "from sklearn.metrics import mean_squared_error, r2_score\n",
    "from sklearn.feature_selection import mutual_info_regression\n",
    "\n",
    "print('numpy %s, pandas %s'%(np.__version__,pd.__version__))\n",
    "print(os.getcwd()) "
   ]
  },
  {
   "attachments": {},
   "cell_type": "markdown",
   "metadata": {},
   "source": [
    "# 0 - PREPARARATION DES DONNEES"
   ]
  },
  {
   "attachments": {},
   "cell_type": "markdown",
   "metadata": {},
   "source": [
    "### Creation depuis un CSV et affichage d'un Dataframe Pandas"
   ]
  },
  {
   "cell_type": "code",
   "execution_count": null,
   "metadata": {},
   "outputs": [],
   "source": [
    "my_dataframe = pd.read_csv('Data/iris.csv')\n",
    "my_dataframe"
   ]
  },
  {
   "attachments": {},
   "cell_type": "markdown",
   "metadata": {},
   "source": [
    "### Transformation de l'ID en index"
   ]
  },
  {
   "cell_type": "code",
   "execution_count": null,
   "metadata": {},
   "outputs": [],
   "source": [
    "my_dataframe.set_index('id_Iris',inplace=True) #Inplace permet de conserver les modification du DataFrame\n",
    "my_dataframe"
   ]
  },
  {
   "attachments": {},
   "cell_type": "markdown",
   "metadata": {},
   "source": [
    "### Tri selon l'index"
   ]
  },
  {
   "cell_type": "code",
   "execution_count": null,
   "metadata": {},
   "outputs": [],
   "source": [
    "my_dataframe.sort_index(inplace=True) #Inplace permet de conserver les modification du DataFrame\n",
    "my_dataframe"
   ]
  },
  {
   "attachments": {},
   "cell_type": "markdown",
   "metadata": {},
   "source": [
    "### Ajout de colonnes  de type catégories"
   ]
  },
  {
   "cell_type": "code",
   "execution_count": null,
   "metadata": {},
   "outputs": [],
   "source": [
    "for taille in [\"Longueur Sépale (cm)\",\"Largeur Sépale (cm)\",\"Longueur Pétale (cm)\",\"Largeur Pétale (cm)\"]:\n",
    "    my_dataframe[taille.replace(\" (cm)\",\"\")] = pd.qcut(my_dataframe[taille],3,['petit','moyen','grand'])\n",
    "my_dataframe['Nom Iris'] = my_dataframe['Type Iris'].map({\n",
    "    0:'Versicolor',\n",
    "    1:'Setosa',\n",
    "    2:'Virginica',\n",
    "})\n",
    "my_dataframe"
   ]
  },
  {
   "cell_type": "code",
   "execution_count": null,
   "metadata": {},
   "outputs": [],
   "source": [
    "my_dataframe[\"Longueur Sépale\"].value_counts()"
   ]
  },
  {
   "attachments": {},
   "cell_type": "markdown",
   "metadata": {},
   "source": [
    "# 1 - Exploration des données"
   ]
  },
  {
   "cell_type": "code",
   "execution_count": null,
   "metadata": {},
   "outputs": [],
   "source": [
    "my_dataframe.sample(5)"
   ]
  },
  {
   "cell_type": "code",
   "execution_count": null,
   "metadata": {},
   "outputs": [],
   "source": [
    "my_dataframe.info()"
   ]
  },
  {
   "cell_type": "code",
   "execution_count": null,
   "metadata": {},
   "outputs": [],
   "source": [
    "my_dataframe.dtypes"
   ]
  },
  {
   "cell_type": "code",
   "execution_count": null,
   "metadata": {},
   "outputs": [],
   "source": [
    "my_dataframe.describe()"
   ]
  },
  {
   "attachments": {},
   "cell_type": "markdown",
   "metadata": {},
   "source": [
    "# 2 - PRIORISER LES FEATURES"
   ]
  },
  {
   "attachments": {},
   "cell_type": "markdown",
   "metadata": {},
   "source": [
    "### Distribution des labels selon une feature"
   ]
  },
  {
   "cell_type": "code",
   "execution_count": null,
   "metadata": {},
   "outputs": [],
   "source": [
    "display(pd.crosstab(my_dataframe[\"Longueur Pétale\"],my_dataframe[\"Nom Iris\"]))\n",
    "print(\"-\"*50)\n",
    "display(pd.crosstab(my_dataframe[\"Largeur Sépale\"],my_dataframe[\"Nom Iris\"]))"
   ]
  },
  {
   "attachments": {},
   "cell_type": "markdown",
   "metadata": {},
   "source": [
    "### Information Mutuelle"
   ]
  },
  {
   "cell_type": "code",
   "execution_count": null,
   "metadata": {},
   "outputs": [],
   "source": [
    "studied_features = [\"Longueur Sépale\",\"Largeur Sépale\",\"Longueur Pétale\",\"Largeur Pétale\"]\n",
    "X = my_dataframe[studied_features].copy()\n",
    "for colname in X.columns:\n",
    "    X[colname], _ = X[colname].factorize() # transforme des catégories en nombre entier\n",
    "\n",
    "discrete_features = X.dtypes == \"int64\"\n",
    "\n",
    "mi_scores = mutual_info_regression(\n",
    "    X, \n",
    "    my_dataframe['Type Iris']    \n",
    ")\n",
    "mi_scores = pd.Series(mi_scores, name=\"MI Scores\", index=X.columns)\n",
    "mi_scores = mi_scores.sort_values(ascending=False)\n",
    "mi_scores"
   ]
  },
  {
   "cell_type": "code",
   "execution_count": null,
   "metadata": {},
   "outputs": [],
   "source": [
    "scores = mi_scores.sort_values(ascending=True)\n",
    "width = np.arange(len(scores))\n",
    "ticks = list(scores.index)\n",
    "plt.barh(width, scores)\n",
    "plt.yticks(width, ticks)\n",
    "plt.title(\"Mutual Information Scores\")"
   ]
  },
  {
   "attachments": {},
   "cell_type": "markdown",
   "metadata": {},
   "source": [
    "# 3 - Creer Des Features"
   ]
  },
  {
   "attachments": {},
   "cell_type": "markdown",
   "metadata": {},
   "source": [
    "### Compter des conditions (nombre de grande dimension)"
   ]
  },
  {
   "cell_type": "code",
   "execution_count": null,
   "metadata": {},
   "outputs": [],
   "source": [
    "discrete_features = [\"Longueur Sépale\",\"Largeur Sépale\",\"Longueur Pétale\",\"Largeur Pétale\"]\n",
    "my_dataframe[\"nbGrand\"] = (my_dataframe[discrete_features]==\"grand\").sum(axis=1)\n",
    "display(pd.crosstab(my_dataframe[\"nbGrand\"],my_dataframe[\"Nom Iris\"]))\n",
    "my_dataframe.sample(5, random_state=42)"
   ]
  },
  {
   "attachments": {},
   "cell_type": "markdown",
   "metadata": {},
   "source": [
    "### Group & Transform : Ajouter la largeur moyenne de la pétale en fonction de sa catégorie de longueur"
   ]
  },
  {
   "cell_type": "code",
   "execution_count": null,
   "metadata": {},
   "outputs": [],
   "source": [
    "my_dataframe[\"Moy Largeur Pétale\"] = (\n",
    "    my_dataframe.groupby(\"Longueur Pétale\")  # for each state\n",
    "    [\"Largeur Pétale (cm)\"]                 # select the income\n",
    "    .transform(\"mean\")         # and compute its mean\n",
    ")\n",
    "my_dataframe"
   ]
  },
  {
   "attachments": {},
   "cell_type": "markdown",
   "metadata": {},
   "source": [
    "### Target Encoding"
   ]
  },
  {
   "attachments": {},
   "cell_type": "markdown",
   "metadata": {},
   "source": [
    "#### Sans lissage"
   ]
  },
  {
   "cell_type": "code",
   "execution_count": null,
   "metadata": {},
   "outputs": [],
   "source": [
    "my_dataframe[\"Moy Type Iris\"] = (\n",
    "    my_dataframe.groupby(\"Longueur Pétale\")  # for each state\n",
    "    [\"Type Iris\"]                 # select the income\n",
    "    .transform(\"mean\")         # and compute its mean\n",
    ")\n",
    "my_dataframe"
   ]
  },
  {
   "attachments": {},
   "cell_type": "markdown",
   "metadata": {},
   "source": [
    "### Avec Lissage"
   ]
  },
  {
   "cell_type": "code",
   "execution_count": null,
   "metadata": {},
   "outputs": [],
   "source": [
    "# Facteur de lissage = 100\n",
    "coef = 150/(150 + 100)\n",
    "my_dataframe[\"Moy Type Iris\"] = coef * my_dataframe[\"Moy Type Iris\"] + (1-coef) * my_dataframe[\"Type Iris\"].mean()\n",
    "my_dataframe[\"Moy Type Iris\"]\n",
    "my_dataframe"
   ]
  },
  {
   "attachments": {},
   "cell_type": "markdown",
   "metadata": {},
   "source": [
    "# 4 - Corriger ses données"
   ]
  },
  {
   "attachments": {},
   "cell_type": "markdown",
   "metadata": {},
   "source": [
    "### Filtrage des données"
   ]
  },
  {
   "cell_type": "code",
   "execution_count": null,
   "metadata": {},
   "outputs": [],
   "source": [
    "my_dataframe.boxplot(fontsize=12, figsize=(18,10))"
   ]
  },
  {
   "attachments": {},
   "cell_type": "markdown",
   "metadata": {},
   "source": [
    "### Suppression des outliers"
   ]
  },
  {
   "cell_type": "code",
   "execution_count": null,
   "metadata": {},
   "outputs": [],
   "source": [
    "# filtered_dataframe\n",
    "exclusion_outliers = my_dataframe[\"Largeur Sépale (cm)\"].between(2.1,4)\n",
    "print(\"Total:\",len(exclusion_outliers), \"Conservés:\", exclusion_outliers.sum())\n",
    "filtered_dataframe =  my_dataframe[exclusion_outliers]\n",
    "filtered_dataframe.boxplot(fontsize=12, figsize=(18,10))"
   ]
  },
  {
   "attachments": {},
   "cell_type": "markdown",
   "metadata": {},
   "source": [
    "# 5 - Compléter ses données\n",
    "### Création d'un petit Dataframe avec des données manquantes dans \"Longueur Sépale\""
   ]
  },
  {
   "cell_type": "code",
   "execution_count": null,
   "metadata": {},
   "outputs": [],
   "source": [
    "# Sélection des Iris avec Longueur Sépale indéfinie\n",
    "small_df_na = my_dataframe[my_dataframe['Longueur Sépale (cm)'].isna()]\n",
    "# Sélection aléatoire des Iris avec Longueur Sépale définie\n",
    "small_df_rnd = my_dataframe[~my_dataframe['Longueur Sépale (cm)'].isna()].sample(20, random_state=42)\n",
    "my_dataframe[my_dataframe['Longueur Sépale (cm)'].isna()]\n",
    "small_df = pd.concat([small_df_na,small_df_rnd]).sort_index()\n",
    "small_df"
   ]
  },
  {
   "attachments": {},
   "cell_type": "markdown",
   "metadata": {},
   "source": [
    "### Suppression des lignes avec des données manquantes"
   ]
  },
  {
   "cell_type": "code",
   "execution_count": null,
   "metadata": {},
   "outputs": [],
   "source": [
    "small_df[~small_df.isna().any(axis=1)]"
   ]
  },
  {
   "attachments": {},
   "cell_type": "markdown",
   "metadata": {},
   "source": [
    "### Suppression d'une colonne"
   ]
  },
  {
   "cell_type": "code",
   "execution_count": null,
   "metadata": {},
   "outputs": [],
   "source": [
    "small_df.drop('Longueur Sépale (cm)', axis=1)"
   ]
  },
  {
   "attachments": {},
   "cell_type": "markdown",
   "metadata": {},
   "source": [
    "### Remplacement par la moyenne"
   ]
  },
  {
   "cell_type": "code",
   "execution_count": null,
   "metadata": {},
   "outputs": [],
   "source": [
    "fulfilled_small_df=small_df.copy()\n",
    "fulfilled_small_df[\"Longueur Sépale (cm)\"].fillna(small_df[\"Longueur Sépale (cm)\"].mean(),inplace=True)\n",
    "fulfilled_small_df"
   ]
  },
  {
   "attachments": {},
   "cell_type": "markdown",
   "metadata": {},
   "source": [
    "### Régression linéaire entre Longueur Sépale et Longueur Pétale"
   ]
  },
  {
   "cell_type": "code",
   "execution_count": null,
   "metadata": {},
   "outputs": [],
   "source": [
    "filter_not_nan = ~(small_df['Longueur Sépale (cm)'].isnull() | small_df['Longueur Pétale (cm)'].isnull())\n",
    "x = small_df.loc[filter_not_nan,'Longueur Pétale (cm)'].values.reshape(-1, 1) # Mise au format pour le fit, car plusieurs variables possibles\n",
    "print(x)\n",
    "y = small_df.loc[filter_not_nan,'Longueur Sépale (cm)']\n",
    "model = LinearRegression()\n",
    "\n",
    "model.fit(x,y)\n",
    "y_predict = model.predict(x)\n",
    "\n",
    "plt.scatter(x, y)\n",
    "plt.plot(x, y_predict, color='g')\n",
    "plt.show()"
   ]
  },
  {
   "cell_type": "code",
   "execution_count": null,
   "metadata": {},
   "outputs": [],
   "source": [
    "x_reg = small_df.loc[small_df['Longueur Sépale (cm)'].isnull() ,'Longueur Pétale (cm)'].values.reshape(-1, 1)\n",
    "y_reg = model.predict(x_reg)"
   ]
  },
  {
   "attachments": {},
   "cell_type": "markdown",
   "metadata": {},
   "source": [
    "### Affichage des points calculé par régression linéaire"
   ]
  },
  {
   "cell_type": "code",
   "execution_count": null,
   "metadata": {},
   "outputs": [],
   "source": [
    "plt.scatter(x, y)\n",
    "plt.scatter(x_reg, y_reg, color='r')\n",
    "plt.plot(x, y_predict, color='g')\n",
    "plt.show()\n",
    "fulfilled_small_df.loc[small_df['Longueur Sépale (cm)'].isnull() ,'Longueur Sépale (cm)'] = y_reg\n",
    "fulfilled_small_df"
   ]
  }
 ],
 "metadata": {
  "kernelspec": {
   "display_name": "Python 3",
   "language": "python",
   "name": "python3"
  },
  "language_info": {
   "codemirror_mode": {
    "name": "ipython",
    "version": 3
   },
   "file_extension": ".py",
   "mimetype": "text/x-python",
   "name": "python",
   "nbconvert_exporter": "python",
   "pygments_lexer": "ipython3",
   "version": "3.9.6"
  },
  "metadata": {
   "interpreter": {
    "hash": "8a7f431efea175097450e475ba2074c6e83edf516fa688f7dc4e8ab4342121c4"
   }
  },
  "vscode": {
   "interpreter": {
    "hash": "f7976576504ac6c456dadd405d7477574ca2a64265ee4724cfbc25daae5f6d94"
   }
  }
 },
 "nbformat": 4,
 "nbformat_minor": 4
}
